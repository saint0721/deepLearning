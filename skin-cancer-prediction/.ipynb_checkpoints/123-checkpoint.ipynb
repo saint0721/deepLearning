{
 "cells": [
  {
   "cell_type": "code",
   "execution_count": 1,
   "id": "55c51b31-b1a8-4c32-9073-618413a0d34f",
   "metadata": {
    "tags": []
   },
   "outputs": [
    {
     "name": "stdout",
     "output_type": "stream",
     "text": [
      "['HAM10000_metadata', 'ISIC2018_Task3_Test_Images', 'HAM10000_segmentations_lesion_tschandl', 'HAM10000_images_part_2', 'ISIC2018_Task3_Test_NatureMedicine_AI_Interaction_Benefit.csv', 'HAM10000_images_part_1', 'ISIC2018_Task3_Test_GroundTruth.csv']\n"
     ]
    }
   ],
   "source": [
    "%matplotlib inline\n",
    "# python libraties\n",
    "import os, cv2,itertools\n",
    "import matplotlib.pyplot as plt\n",
    "import numpy as np\n",
    "import pandas as pd\n",
    "from tqdm import tqdm\n",
    "from glob import glob\n",
    "from PIL import Image\n",
    "\n",
    "# pytorch libraries\n",
    "import torch\n",
    "from torch import optim,nn\n",
    "from torch.autograd import Variable\n",
    "from torch.utils.data import DataLoader,Dataset\n",
    "from torchvision import models,transforms\n",
    "\n",
    "# sklearn libraries\n",
    "from sklearn.metrics import confusion_matrix\n",
    "from sklearn.model_selection import train_test_split\n",
    "from sklearn.metrics import classification_report\n",
    "\n",
    "# to make the results are reproducible\n",
    "np.random.seed(10)\n",
    "torch.manual_seed(10)\n",
    "torch.cuda.manual_seed(10)\n",
    "\n",
    "print(os.listdir(\"/home/students/cs/202121165/deep_learning/skin-cancer-prediction/data\"))\n"
   ]
  },
  {
   "cell_type": "code",
   "execution_count": 2,
   "id": "e9194efd-0b3d-40ae-814c-78263d4d3312",
   "metadata": {
    "tags": []
   },
   "outputs": [
    {
     "name": "stdout",
     "output_type": "stream",
     "text": [
      "found 11526\n"
     ]
    }
   ],
   "source": [
    "data_dir = \"/home/students/cs/202121165/deep_learning/skin-cancer-prediction/data\"\n",
    "all_image_path = glob(os.path.join(data_dir, '*', '*.jpg'))\n",
    "print(f\"found {len(all_image_path)}\")\n",
    "\n",
    "imageid_path_dict = {os.path.splitext(os.path.basename(x))[0]: x \n",
    "                    for x in all_image_path}\n",
    "\n",
    "lesion_type_dict = {\n",
    "    'nv': 'Melanocytic nevi',\n",
    "    'mel': 'dermatofibroma',\n",
    "    'bkl': 'Benign keratosis-like lesions ',\n",
    "    'bcc': 'Basal cell carcinoma',\n",
    "    'akiec': 'Actinic keratoses',\n",
    "    'vasc': 'Vascular lesions',\n",
    "    'df': 'Dermatofibroma'\n",
    "}\n"
   ]
  },
  {
   "cell_type": "code",
   "execution_count": 3,
   "id": "4eb636a0-fe0f-4394-a545-e21f79eaaabd",
   "metadata": {
    "tags": []
   },
   "outputs": [],
   "source": [
    "def compute_img_mean_std(image_paths):\n",
    "    img_h, img_w = 224, 224\n",
    "    imgs = []\n",
    "    means, stdevs = [], []\n",
    "\n",
    "    # tqdm: 반복문 진행 상태를 시각화하는 라이브러리\n",
    "    for i in tqdm(range(len(image_paths))):\n",
    "        img = cv2.imread(image_paths[i])  # OpenCV로 이미지를 BGR 형식으로 읽음\n",
    "        \n",
    "        # 이미지가 제대로 로드되지 않으면 건너뜀\n",
    "        if img is None:\n",
    "            print(f\"Warning: {image_paths[i]} could not be loaded.\")\n",
    "            continue\n",
    "        \n",
    "        img = cv2.resize(img, (img_h, img_w))\n",
    "        imgs.append(img)\n",
    "\n",
    "    # 이미지를 쌓을 때 이미지가 있는지 확인\n",
    "    if len(imgs) == 0:\n",
    "        raise ValueError(\"No valid images to process.\")\n",
    "\n",
    "    # np.stack을 사용하여 (N, 224, 224, 3)으로 쌓기\n",
    "    imgs = np.stack(imgs, axis=0)  # (N, 224, 224, 3)로 변환\n",
    "    print(imgs.shape)\n",
    "\n",
    "    # 픽셀 값을 0-1로 정규화\n",
    "    imgs = imgs.astype(np.float32) / 255.\n",
    "\n",
    "    for i in range(3):  # B, G, R 채널별로 계산\n",
    "        pixels = imgs[:, :, :, i].ravel()  # 1차원 배열로 변환\n",
    "        means.append(np.mean(pixels))  # 평균 계산\n",
    "        stdevs.append(np.std(pixels))  # 표준편차 계산\n",
    "\n",
    "    # BGR -> RGB 순서로 변환 (OpenCV는 BGR로 읽기 때문에 뒤집기)\n",
    "    means.reverse()\n",
    "    stdevs.reverse()\n",
    "\n",
    "    print(f\"normMean = {means}\")\n",
    "    print(f\"normStd = {stdevs}\")\n",
    "    return means, stdevs"
   ]
  },
  {
   "cell_type": "code",
   "execution_count": 4,
   "id": "efdfa677-4de9-4653-975a-eba778b236ca",
   "metadata": {
    "tags": []
   },
   "outputs": [
    {
     "name": "stderr",
     "output_type": "stream",
     "text": [
      "100%|██████████| 11526/11526 [00:42<00:00, 272.10it/s]\n"
     ]
    },
    {
     "name": "stdout",
     "output_type": "stream",
     "text": [
      "(11526, 224, 224, 3)\n",
      "normMean = [0.762663, 0.5469282, 0.5712713]\n",
      "normStd = [0.14153586, 0.15362886, 0.17099985]\n"
     ]
    }
   ],
   "source": [
    "norm_means, norm_stdevs = compute_img_mean_std(all_image_path)"
   ]
  },
  {
   "cell_type": "code",
   "execution_count": 5,
   "id": "49f552b6-1527-4677-b6ac-b69452425355",
   "metadata": {},
   "outputs": [
    {
     "data": {
      "text/html": [
       "<div>\n",
       "<style scoped>\n",
       "    .dataframe tbody tr th:only-of-type {\n",
       "        vertical-align: middle;\n",
       "    }\n",
       "\n",
       "    .dataframe tbody tr th {\n",
       "        vertical-align: top;\n",
       "    }\n",
       "\n",
       "    .dataframe thead th {\n",
       "        text-align: right;\n",
       "    }\n",
       "</style>\n",
       "<table border=\"1\" class=\"dataframe\">\n",
       "  <thead>\n",
       "    <tr style=\"text-align: right;\">\n",
       "      <th></th>\n",
       "      <th>lesion_id</th>\n",
       "      <th>image_id</th>\n",
       "      <th>dx</th>\n",
       "      <th>dx_type</th>\n",
       "      <th>age</th>\n",
       "      <th>sex</th>\n",
       "      <th>localization</th>\n",
       "      <th>dataset</th>\n",
       "      <th>path</th>\n",
       "      <th>cell_type</th>\n",
       "      <th>cell_type_idx</th>\n",
       "    </tr>\n",
       "  </thead>\n",
       "  <tbody>\n",
       "    <tr>\n",
       "      <th>0</th>\n",
       "      <td>HAM_0000118</td>\n",
       "      <td>ISIC_0027419</td>\n",
       "      <td>bkl</td>\n",
       "      <td>histo</td>\n",
       "      <td>80.0</td>\n",
       "      <td>male</td>\n",
       "      <td>scalp</td>\n",
       "      <td>vidir_modern</td>\n",
       "      <td>/home/students/cs/202121165/deep_learning/skin...</td>\n",
       "      <td>Benign keratosis-like lesions</td>\n",
       "      <td>2</td>\n",
       "    </tr>\n",
       "    <tr>\n",
       "      <th>1</th>\n",
       "      <td>HAM_0000118</td>\n",
       "      <td>ISIC_0025030</td>\n",
       "      <td>bkl</td>\n",
       "      <td>histo</td>\n",
       "      <td>80.0</td>\n",
       "      <td>male</td>\n",
       "      <td>scalp</td>\n",
       "      <td>vidir_modern</td>\n",
       "      <td>/home/students/cs/202121165/deep_learning/skin...</td>\n",
       "      <td>Benign keratosis-like lesions</td>\n",
       "      <td>2</td>\n",
       "    </tr>\n",
       "    <tr>\n",
       "      <th>2</th>\n",
       "      <td>HAM_0002730</td>\n",
       "      <td>ISIC_0026769</td>\n",
       "      <td>bkl</td>\n",
       "      <td>histo</td>\n",
       "      <td>80.0</td>\n",
       "      <td>male</td>\n",
       "      <td>scalp</td>\n",
       "      <td>vidir_modern</td>\n",
       "      <td>/home/students/cs/202121165/deep_learning/skin...</td>\n",
       "      <td>Benign keratosis-like lesions</td>\n",
       "      <td>2</td>\n",
       "    </tr>\n",
       "    <tr>\n",
       "      <th>3</th>\n",
       "      <td>HAM_0002730</td>\n",
       "      <td>ISIC_0025661</td>\n",
       "      <td>bkl</td>\n",
       "      <td>histo</td>\n",
       "      <td>80.0</td>\n",
       "      <td>male</td>\n",
       "      <td>scalp</td>\n",
       "      <td>vidir_modern</td>\n",
       "      <td>/home/students/cs/202121165/deep_learning/skin...</td>\n",
       "      <td>Benign keratosis-like lesions</td>\n",
       "      <td>2</td>\n",
       "    </tr>\n",
       "    <tr>\n",
       "      <th>4</th>\n",
       "      <td>HAM_0001466</td>\n",
       "      <td>ISIC_0031633</td>\n",
       "      <td>bkl</td>\n",
       "      <td>histo</td>\n",
       "      <td>75.0</td>\n",
       "      <td>male</td>\n",
       "      <td>ear</td>\n",
       "      <td>vidir_modern</td>\n",
       "      <td>/home/students/cs/202121165/deep_learning/skin...</td>\n",
       "      <td>Benign keratosis-like lesions</td>\n",
       "      <td>2</td>\n",
       "    </tr>\n",
       "  </tbody>\n",
       "</table>\n",
       "</div>"
      ],
      "text/plain": [
       "     lesion_id      image_id   dx dx_type   age   sex localization  \\\n",
       "0  HAM_0000118  ISIC_0027419  bkl   histo  80.0  male        scalp   \n",
       "1  HAM_0000118  ISIC_0025030  bkl   histo  80.0  male        scalp   \n",
       "2  HAM_0002730  ISIC_0026769  bkl   histo  80.0  male        scalp   \n",
       "3  HAM_0002730  ISIC_0025661  bkl   histo  80.0  male        scalp   \n",
       "4  HAM_0001466  ISIC_0031633  bkl   histo  75.0  male          ear   \n",
       "\n",
       "        dataset                                               path  \\\n",
       "0  vidir_modern  /home/students/cs/202121165/deep_learning/skin...   \n",
       "1  vidir_modern  /home/students/cs/202121165/deep_learning/skin...   \n",
       "2  vidir_modern  /home/students/cs/202121165/deep_learning/skin...   \n",
       "3  vidir_modern  /home/students/cs/202121165/deep_learning/skin...   \n",
       "4  vidir_modern  /home/students/cs/202121165/deep_learning/skin...   \n",
       "\n",
       "                        cell_type  cell_type_idx  \n",
       "0  Benign keratosis-like lesions               2  \n",
       "1  Benign keratosis-like lesions               2  \n",
       "2  Benign keratosis-like lesions               2  \n",
       "3  Benign keratosis-like lesions               2  \n",
       "4  Benign keratosis-like lesions               2  "
      ]
     },
     "execution_count": 5,
     "metadata": {},
     "output_type": "execute_result"
    }
   ],
   "source": [
    "df_original = pd.read_csv(os.path.join(data_dir, \"HAM10000_metadata\"))\n",
    "df_original['path'] = df_original['image_id'].map(imageid_path_dict.get)\n",
    "df_original['cell_type'] = df_original['dx'].map(lesion_type_dict.get)\n",
    "df_original['cell_type_idx'] = pd.Categorical(df_original['cell_type']).codes\n",
    "df_original.head()"
   ]
  },
  {
   "cell_type": "code",
   "execution_count": 6,
   "id": "e3adfe2c-a81d-48b9-a471-a7569fa442b0",
   "metadata": {},
   "outputs": [
    {
     "data": {
      "text/html": [
       "<div>\n",
       "<style scoped>\n",
       "    .dataframe tbody tr th:only-of-type {\n",
       "        vertical-align: middle;\n",
       "    }\n",
       "\n",
       "    .dataframe tbody tr th {\n",
       "        vertical-align: top;\n",
       "    }\n",
       "\n",
       "    .dataframe thead th {\n",
       "        text-align: right;\n",
       "    }\n",
       "</style>\n",
       "<table border=\"1\" class=\"dataframe\">\n",
       "  <thead>\n",
       "    <tr style=\"text-align: right;\">\n",
       "      <th></th>\n",
       "      <th>lesion_id</th>\n",
       "      <th>image_id</th>\n",
       "      <th>dx</th>\n",
       "      <th>dx_type</th>\n",
       "      <th>age</th>\n",
       "      <th>sex</th>\n",
       "      <th>localization</th>\n",
       "      <th>dataset</th>\n",
       "      <th>path</th>\n",
       "      <th>cell_type</th>\n",
       "      <th>cell_type_idx</th>\n",
       "    </tr>\n",
       "  </thead>\n",
       "  <tbody>\n",
       "    <tr>\n",
       "      <th>0</th>\n",
       "      <td>HAM_0000001</td>\n",
       "      <td>1</td>\n",
       "      <td>1</td>\n",
       "      <td>1</td>\n",
       "      <td>1</td>\n",
       "      <td>1</td>\n",
       "      <td>1</td>\n",
       "      <td>1</td>\n",
       "      <td>1</td>\n",
       "      <td>1</td>\n",
       "      <td>1</td>\n",
       "    </tr>\n",
       "    <tr>\n",
       "      <th>1</th>\n",
       "      <td>HAM_0000003</td>\n",
       "      <td>1</td>\n",
       "      <td>1</td>\n",
       "      <td>1</td>\n",
       "      <td>1</td>\n",
       "      <td>1</td>\n",
       "      <td>1</td>\n",
       "      <td>1</td>\n",
       "      <td>1</td>\n",
       "      <td>1</td>\n",
       "      <td>1</td>\n",
       "    </tr>\n",
       "    <tr>\n",
       "      <th>2</th>\n",
       "      <td>HAM_0000004</td>\n",
       "      <td>1</td>\n",
       "      <td>1</td>\n",
       "      <td>1</td>\n",
       "      <td>1</td>\n",
       "      <td>1</td>\n",
       "      <td>1</td>\n",
       "      <td>1</td>\n",
       "      <td>1</td>\n",
       "      <td>1</td>\n",
       "      <td>1</td>\n",
       "    </tr>\n",
       "    <tr>\n",
       "      <th>3</th>\n",
       "      <td>HAM_0000007</td>\n",
       "      <td>1</td>\n",
       "      <td>1</td>\n",
       "      <td>1</td>\n",
       "      <td>1</td>\n",
       "      <td>1</td>\n",
       "      <td>1</td>\n",
       "      <td>1</td>\n",
       "      <td>1</td>\n",
       "      <td>1</td>\n",
       "      <td>1</td>\n",
       "    </tr>\n",
       "    <tr>\n",
       "      <th>4</th>\n",
       "      <td>HAM_0000008</td>\n",
       "      <td>1</td>\n",
       "      <td>1</td>\n",
       "      <td>1</td>\n",
       "      <td>1</td>\n",
       "      <td>1</td>\n",
       "      <td>1</td>\n",
       "      <td>1</td>\n",
       "      <td>1</td>\n",
       "      <td>1</td>\n",
       "      <td>1</td>\n",
       "    </tr>\n",
       "  </tbody>\n",
       "</table>\n",
       "</div>"
      ],
      "text/plain": [
       "     lesion_id  image_id  dx  dx_type  age  sex  localization  dataset  path  \\\n",
       "0  HAM_0000001         1   1        1    1    1             1        1     1   \n",
       "1  HAM_0000003         1   1        1    1    1             1        1     1   \n",
       "2  HAM_0000004         1   1        1    1    1             1        1     1   \n",
       "3  HAM_0000007         1   1        1    1    1             1        1     1   \n",
       "4  HAM_0000008         1   1        1    1    1             1        1     1   \n",
       "\n",
       "   cell_type  cell_type_idx  \n",
       "0          1              1  \n",
       "1          1              1  \n",
       "2          1              1  \n",
       "3          1              1  \n",
       "4          1              1  "
      ]
     },
     "execution_count": 6,
     "metadata": {},
     "output_type": "execute_result"
    }
   ],
   "source": [
    "df_undup = df_original.groupby('lesion_id').count()\n",
    "df_undup = df_undup[df_undup['image_id'] == 1]\n",
    "df_undup.reset_index(inplace=True)\n",
    "df_undup.head()"
   ]
  },
  {
   "cell_type": "code",
   "execution_count": 7,
   "id": "698297c9-d181-434b-a811-88570e997ac8",
   "metadata": {},
   "outputs": [
    {
     "data": {
      "text/html": [
       "<div>\n",
       "<style scoped>\n",
       "    .dataframe tbody tr th:only-of-type {\n",
       "        vertical-align: middle;\n",
       "    }\n",
       "\n",
       "    .dataframe tbody tr th {\n",
       "        vertical-align: top;\n",
       "    }\n",
       "\n",
       "    .dataframe thead th {\n",
       "        text-align: right;\n",
       "    }\n",
       "</style>\n",
       "<table border=\"1\" class=\"dataframe\">\n",
       "  <thead>\n",
       "    <tr style=\"text-align: right;\">\n",
       "      <th></th>\n",
       "      <th>lesion_id</th>\n",
       "      <th>image_id</th>\n",
       "      <th>dx</th>\n",
       "      <th>dx_type</th>\n",
       "      <th>age</th>\n",
       "      <th>sex</th>\n",
       "      <th>localization</th>\n",
       "      <th>dataset</th>\n",
       "      <th>path</th>\n",
       "      <th>cell_type</th>\n",
       "      <th>cell_type_idx</th>\n",
       "      <th>duplicates</th>\n",
       "    </tr>\n",
       "  </thead>\n",
       "  <tbody>\n",
       "    <tr>\n",
       "      <th>0</th>\n",
       "      <td>HAM_0000118</td>\n",
       "      <td>ISIC_0027419</td>\n",
       "      <td>bkl</td>\n",
       "      <td>histo</td>\n",
       "      <td>80.0</td>\n",
       "      <td>male</td>\n",
       "      <td>scalp</td>\n",
       "      <td>vidir_modern</td>\n",
       "      <td>/home/students/cs/202121165/deep_learning/skin...</td>\n",
       "      <td>Benign keratosis-like lesions</td>\n",
       "      <td>2</td>\n",
       "      <td>duplicated</td>\n",
       "    </tr>\n",
       "    <tr>\n",
       "      <th>1</th>\n",
       "      <td>HAM_0000118</td>\n",
       "      <td>ISIC_0025030</td>\n",
       "      <td>bkl</td>\n",
       "      <td>histo</td>\n",
       "      <td>80.0</td>\n",
       "      <td>male</td>\n",
       "      <td>scalp</td>\n",
       "      <td>vidir_modern</td>\n",
       "      <td>/home/students/cs/202121165/deep_learning/skin...</td>\n",
       "      <td>Benign keratosis-like lesions</td>\n",
       "      <td>2</td>\n",
       "      <td>duplicated</td>\n",
       "    </tr>\n",
       "    <tr>\n",
       "      <th>2</th>\n",
       "      <td>HAM_0002730</td>\n",
       "      <td>ISIC_0026769</td>\n",
       "      <td>bkl</td>\n",
       "      <td>histo</td>\n",
       "      <td>80.0</td>\n",
       "      <td>male</td>\n",
       "      <td>scalp</td>\n",
       "      <td>vidir_modern</td>\n",
       "      <td>/home/students/cs/202121165/deep_learning/skin...</td>\n",
       "      <td>Benign keratosis-like lesions</td>\n",
       "      <td>2</td>\n",
       "      <td>duplicated</td>\n",
       "    </tr>\n",
       "    <tr>\n",
       "      <th>3</th>\n",
       "      <td>HAM_0002730</td>\n",
       "      <td>ISIC_0025661</td>\n",
       "      <td>bkl</td>\n",
       "      <td>histo</td>\n",
       "      <td>80.0</td>\n",
       "      <td>male</td>\n",
       "      <td>scalp</td>\n",
       "      <td>vidir_modern</td>\n",
       "      <td>/home/students/cs/202121165/deep_learning/skin...</td>\n",
       "      <td>Benign keratosis-like lesions</td>\n",
       "      <td>2</td>\n",
       "      <td>duplicated</td>\n",
       "    </tr>\n",
       "    <tr>\n",
       "      <th>4</th>\n",
       "      <td>HAM_0001466</td>\n",
       "      <td>ISIC_0031633</td>\n",
       "      <td>bkl</td>\n",
       "      <td>histo</td>\n",
       "      <td>75.0</td>\n",
       "      <td>male</td>\n",
       "      <td>ear</td>\n",
       "      <td>vidir_modern</td>\n",
       "      <td>/home/students/cs/202121165/deep_learning/skin...</td>\n",
       "      <td>Benign keratosis-like lesions</td>\n",
       "      <td>2</td>\n",
       "      <td>duplicated</td>\n",
       "    </tr>\n",
       "  </tbody>\n",
       "</table>\n",
       "</div>"
      ],
      "text/plain": [
       "     lesion_id      image_id   dx dx_type   age   sex localization  \\\n",
       "0  HAM_0000118  ISIC_0027419  bkl   histo  80.0  male        scalp   \n",
       "1  HAM_0000118  ISIC_0025030  bkl   histo  80.0  male        scalp   \n",
       "2  HAM_0002730  ISIC_0026769  bkl   histo  80.0  male        scalp   \n",
       "3  HAM_0002730  ISIC_0025661  bkl   histo  80.0  male        scalp   \n",
       "4  HAM_0001466  ISIC_0031633  bkl   histo  75.0  male          ear   \n",
       "\n",
       "        dataset                                               path  \\\n",
       "0  vidir_modern  /home/students/cs/202121165/deep_learning/skin...   \n",
       "1  vidir_modern  /home/students/cs/202121165/deep_learning/skin...   \n",
       "2  vidir_modern  /home/students/cs/202121165/deep_learning/skin...   \n",
       "3  vidir_modern  /home/students/cs/202121165/deep_learning/skin...   \n",
       "4  vidir_modern  /home/students/cs/202121165/deep_learning/skin...   \n",
       "\n",
       "                        cell_type  cell_type_idx  duplicates  \n",
       "0  Benign keratosis-like lesions               2  duplicated  \n",
       "1  Benign keratosis-like lesions               2  duplicated  \n",
       "2  Benign keratosis-like lesions               2  duplicated  \n",
       "3  Benign keratosis-like lesions               2  duplicated  \n",
       "4  Benign keratosis-like lesions               2  duplicated  "
      ]
     },
     "execution_count": 7,
     "metadata": {},
     "output_type": "execute_result"
    }
   ],
   "source": [
    "def get_duplicates(x):\n",
    "    unique_list = list(df_undup['lesion_id'])\n",
    "    if x in unique_list:\n",
    "        return 'unduplicated'\n",
    "    else:\n",
    "        return 'duplicated'\n",
    "\n",
    "df_original['duplicates'] = df_original['lesion_id']\n",
    "df_original['duplicates'] = df_original['duplicates'].apply(get_duplicates)\n",
    "df_original.head()\n"
   ]
  },
  {
   "cell_type": "code",
   "execution_count": 8,
   "id": "0bf1139a-2cdd-487b-a215-e232050f0bff",
   "metadata": {},
   "outputs": [
    {
     "data": {
      "text/plain": [
       "unduplicated    5514\n",
       "duplicated      4501\n",
       "Name: duplicates, dtype: int64"
      ]
     },
     "execution_count": 8,
     "metadata": {},
     "output_type": "execute_result"
    }
   ],
   "source": [
    "df_original['duplicates'].value_counts()"
   ]
  },
  {
   "cell_type": "code",
   "execution_count": 9,
   "id": "32c7d345-12ea-4331-9cad-0f3ff2700df1",
   "metadata": {},
   "outputs": [
    {
     "data": {
      "text/plain": [
       "(5514, 12)"
      ]
     },
     "execution_count": 9,
     "metadata": {},
     "output_type": "execute_result"
    }
   ],
   "source": [
    "df_undup = df_original[df_original['duplicates'] == 'unduplicated']\n",
    "df_undup.shape"
   ]
  },
  {
   "cell_type": "code",
   "execution_count": 10,
   "id": "ffbe2246-9030-41a5-ad60-199890551f26",
   "metadata": {
    "tags": []
   },
   "outputs": [
    {
     "data": {
      "text/plain": [
       "(1103, 12)"
      ]
     },
     "execution_count": 10,
     "metadata": {},
     "output_type": "execute_result"
    }
   ],
   "source": [
    "y = df_undup['cell_type_idx']\n",
    "_, df_val = train_test_split(df_undup, test_size=.2, random_state=101, stratify=y)\n",
    "\n",
    "df_val.shape"
   ]
  },
  {
   "cell_type": "code",
   "execution_count": 11,
   "id": "566338d5-0b34-4eea-8888-195f486aebcd",
   "metadata": {
    "tags": []
   },
   "outputs": [
    {
     "data": {
      "text/plain": [
       "4    883\n",
       "2     88\n",
       "6     46\n",
       "1     35\n",
       "0     30\n",
       "5     13\n",
       "3      8\n",
       "Name: cell_type_idx, dtype: int64"
      ]
     },
     "execution_count": 11,
     "metadata": {},
     "output_type": "execute_result"
    }
   ],
   "source": [
    "df_val['cell_type_idx'].value_counts()"
   ]
  },
  {
   "cell_type": "code",
   "execution_count": 12,
   "id": "c0978a1a-8921-46ed-90f8-ffda1d11a1fc",
   "metadata": {
    "tags": []
   },
   "outputs": [
    {
     "name": "stdout",
     "output_type": "stream",
     "text": [
      "8912\n",
      "1103\n"
     ]
    }
   ],
   "source": [
    "def get_val_rows(x):\n",
    "    val_list = list(df_val['image_id'])\n",
    "    if str(x) in val_list:\n",
    "        return 'val'\n",
    "    else:\n",
    "        return 'train'\n",
    "\n",
    "df_original['train_or_val'] = df_original['image_id']\n",
    "df_original['train_or_val'] = df_original['train_or_val'].apply(get_val_rows)\n",
    "\n",
    "df_train = df_original[df_original['train_or_val'] == 'train']\n",
    "print(len(df_train))\n",
    "print(len(df_val))"
   ]
  },
  {
   "cell_type": "code",
   "execution_count": 13,
   "id": "0388abe1-5b43-4389-8384-6b13985432c7",
   "metadata": {
    "tags": []
   },
   "outputs": [
    {
     "data": {
      "text/plain": [
       "4    5822\n",
       "6    1067\n",
       "2    1011\n",
       "1     479\n",
       "0     297\n",
       "5     129\n",
       "3     107\n",
       "Name: cell_type_idx, dtype: int64"
      ]
     },
     "execution_count": 13,
     "metadata": {},
     "output_type": "execute_result"
    }
   ],
   "source": [
    "df_train['cell_type_idx'].value_counts()"
   ]
  },
  {
   "cell_type": "code",
   "execution_count": 14,
   "id": "332553be-edc0-4742-833c-65d6052d8bb7",
   "metadata": {
    "tags": []
   },
   "outputs": [
    {
     "data": {
      "text/plain": [
       "Melanocytic nevi                  883\n",
       "Benign keratosis-like lesions      88\n",
       "dermatofibroma                     46\n",
       "Basal cell carcinoma               35\n",
       "Actinic keratoses                  30\n",
       "Vascular lesions                   13\n",
       "Dermatofibroma                      8\n",
       "Name: cell_type, dtype: int64"
      ]
     },
     "execution_count": 14,
     "metadata": {},
     "output_type": "execute_result"
    }
   ],
   "source": [
    "df_val['cell_type'].value_counts()"
   ]
  },
  {
   "cell_type": "code",
   "execution_count": 15,
   "id": "e4e97f6b-5f18-42ee-b610-f75f46a7d4f0",
   "metadata": {
    "tags": []
   },
   "outputs": [
    {
     "name": "stderr",
     "output_type": "stream",
     "text": [
      "/tmp/ipykernel_2796032/2351963239.py:4: FutureWarning: The frame.append method is deprecated and will be removed from pandas in a future version. Use pandas.concat instead.\n",
      "  df_train = df_train.append(\n"
     ]
    },
    {
     "data": {
      "text/plain": [
       "Melanocytic nevi                  5822\n",
       "Dermatofibroma                    5350\n",
       "dermatofibroma                    5335\n",
       "Vascular lesions                  5160\n",
       "Benign keratosis-like lesions     5055\n",
       "Basal cell carcinoma              4790\n",
       "Actinic keratoses                 4455\n",
       "Name: cell_type, dtype: int64"
      ]
     },
     "execution_count": 15,
     "metadata": {},
     "output_type": "execute_result"
    }
   ],
   "source": [
    "data_aug_rate = [15, 10, 5, 50, 0, 40, 5]\n",
    "for i in range(7):\n",
    "    if data_aug_rate[i]:\n",
    "        df_train = df_train.append(\n",
    "            [df_train.loc[df_train['cell_type_idx'] == i, :]] \n",
    "            * (data_aug_rate[i]-1), ignore_index=True)\n",
    "\n",
    "df_train['cell_type'].value_counts()"
   ]
  },
  {
   "cell_type": "code",
   "execution_count": 16,
   "id": "8f8297f1-38d8-4b7c-8c3b-89dad67c52ac",
   "metadata": {
    "tags": []
   },
   "outputs": [],
   "source": [
    "df_train = df_train.reset_index()\n",
    "df_val = df_train.reset_index()"
   ]
  },
  {
   "cell_type": "code",
   "execution_count": 17,
   "id": "58b01537-501d-4642-8702-7cee1ab5b203",
   "metadata": {
    "tags": []
   },
   "outputs": [],
   "source": [
    "# feature_extracting = False, model 파인튜닝 & 모든 모델 업데이트\n",
    "# feature_extracting = True, 마지막 레이어의 파라미터만 업데이트(파라미터 고정)\n",
    "def set_parameter_requires_grad(model, feature_extracting):\n",
    "    if feature_extracting:\n",
    "        for param in model.parameters():\n",
    "            param.requires_grad = False"
   ]
  },
  {
   "cell_type": "code",
   "execution_count": 18,
   "id": "b551019c-fdf4-41ad-83b2-b475ef0b82fe",
   "metadata": {
    "tags": []
   },
   "outputs": [],
   "source": [
    "def initialize_model(model_name, num_classes, feature_extract, use_pretrained=True):\n",
    "    model_ft = None\n",
    "    input_size = 0\n",
    "    \n",
    "    if model_name == \"resnet\":\n",
    "        model_ft = models.resnet50(pretrained=use_pretrained)\n",
    "        set_parameter_requires_grad(model_ft, feature_extract)\n",
    "        num_ftrs = model_ft.fc.in_features\n",
    "        model_ft.fc = nn.Linear(num_ftrs, num_classes)\n",
    "        input_size = 224\n",
    "        \n",
    "    elif model_name == 'vgg':\n",
    "        model_ft = models.vgg11_bn(pretrained=use_pretrained)\n",
    "        set_parameter_requires_grad(model_ft, feature_extract)\n",
    "        num_ftrs = model_ft.classifier[6].in_features\n",
    "        model_ft.classifier[6] = nn.Linear(num_ftrs, num_classes)\n",
    "        input_size = 224\n",
    "        \n",
    "    elif model_name == 'densenet':\n",
    "        model_ft = models.densenet121(pretrained=use_pretrained)\n",
    "        set_parameter_requires_grad(model_ft, feature_extract)\n",
    "        num_ftrs = model_ft.classifier.in_features\n",
    "        model_ft.classifier = nn.Linear(num_ftrs, num_classes)\n",
    "        input_size = 224\n",
    "        \n",
    "    elif model_name == 'inception':\n",
    "        model_ft = model.inception_v3(pretrained=use_pretrained)\n",
    "        set_parameter_requires_grad(model_ft, feature_extract)\n",
    "        num_ftrs = model_ft.AuxLogits.fc.in_features\n",
    "        model_ft.AuxLogits.fc = nn.Linear(num_ftrs, num_classes)\n",
    "        num_ftrs = model_ft.fc.in_features\n",
    "        model_ft.fc = nn.Linear(num_ftrs, num_classes)\n",
    "        input_size = 299\n",
    "    \n",
    "    else:\n",
    "        print('Invalid model name, exiting...')\n",
    "        exit()\n",
    "    return model_ft, input_size"
   ]
  },
  {
   "cell_type": "code",
   "execution_count": 19,
   "id": "455798cc-b2b7-4d2c-8450-aec1fb7718fe",
   "metadata": {
    "tags": []
   },
   "outputs": [
    {
     "name": "stderr",
     "output_type": "stream",
     "text": [
      "/usr/anaconda3/lib/python3.11/site-packages/torchvision/models/_utils.py:208: UserWarning: The parameter 'pretrained' is deprecated since 0.13 and may be removed in the future, please use 'weights' instead.\n",
      "  warnings.warn(\n",
      "/usr/anaconda3/lib/python3.11/site-packages/torchvision/models/_utils.py:223: UserWarning: Arguments other than a weight enum or `None` for 'weights' are deprecated since 0.13 and may be removed in the future. The current behavior is equivalent to passing `weights=DenseNet121_Weights.IMAGENET1K_V1`. You can also use `weights=DenseNet121_Weights.DEFAULT` to get the most up-to-date weights.\n",
      "  warnings.warn(msg)\n"
     ]
    }
   ],
   "source": [
    "model_name = 'densenet'\n",
    "num_classes = 7\n",
    "feature_extract = False\n",
    "model_ft, input_size = initialize_model(model_name, num_classes,\n",
    "                                        feature_extract, use_pretrained=True)\n",
    "\n",
    "device = torch.device('cuda')\n",
    "model = model_ft.to(device)"
   ]
  },
  {
   "cell_type": "code",
   "execution_count": 20,
   "id": "144b5855-2356-4932-a834-ade8210c0feb",
   "metadata": {
    "tags": []
   },
   "outputs": [],
   "source": [
    "train_transform = transforms.Compose([\n",
    "    transforms.Resize((input_size, input_size)),\n",
    "    transforms.RandomHorizontalFlip(),\n",
    "    transforms.RandomVerticalFlip(),\n",
    "    transforms.RandomRotation(20),\n",
    "    transforms.ColorJitter(brightness=0.1, contrast=0.1, hue=0.1),\n",
    "    transforms.ToTensor(),\n",
    "    transforms.Normalize(norm_means, norm_stdevs)\n",
    "])\n",
    "\n",
    "val_transform = transforms.Compose([\n",
    "    transforms.Resize((input_size, input_size)),\n",
    "    transforms.ToTensor(),\n",
    "    transforms.Normalize(norm_means, norm_stdevs)\n",
    "])"
   ]
  },
  {
   "cell_type": "code",
   "execution_count": 21,
   "id": "3bbe1bd1-f61c-47d7-b17d-a2486643ba6a",
   "metadata": {
    "tags": []
   },
   "outputs": [],
   "source": [
    "class HAM10000(Dataset):\n",
    "    def __init__(self, df, transform=None):\n",
    "        self.df = df\n",
    "        self.transform = transform\n",
    "    \n",
    "    def __len__(self):\n",
    "        return len(self.df)\n",
    "    \n",
    "    def __getitem__(self, idx):\n",
    "        X = Image.open(self.df['path'][idx])\n",
    "        y = torch.tensor(int(self.df['cell_type_idx'][idx]))\n",
    "        \n",
    "        if self.transform:\n",
    "            X = self.transform(X)\n",
    "        \n",
    "        return X, y"
   ]
  },
  {
   "cell_type": "code",
   "execution_count": 22,
   "id": "ce4b897c-4cbb-4ed2-8d93-26e327760707",
   "metadata": {
    "tags": []
   },
   "outputs": [],
   "source": [
    "train_set = HAM10000(df_train, transform = train_transform)\n",
    "train_loader = DataLoader(train_set, batch_size=32, shuffle=True, num_workers=4)\n",
    "\n",
    "val_set = HAM10000(df_train, transform = train_transform)\n",
    "val_loader = DataLoader(val_set, batch_size=32, shuffle=False, num_workers=4)"
   ]
  },
  {
   "cell_type": "code",
   "execution_count": 23,
   "id": "2d80a409-1358-44bc-82d1-682f316c4ddb",
   "metadata": {
    "tags": []
   },
   "outputs": [],
   "source": [
    "optimizer = optim.Adam(model.parameters(),lr=1e-3)\n",
    "criterion = nn.CrossEntropyLoss().to(device)"
   ]
  },
  {
   "cell_type": "code",
   "execution_count": 24,
   "id": "9edda37a-614b-4267-91b1-06de0437c1d6",
   "metadata": {
    "tags": []
   },
   "outputs": [],
   "source": [
    "class AverageMeter(object):\n",
    "    def __init__(self):\n",
    "        self.reset()\n",
    "        \n",
    "    def reset(self):\n",
    "        self.val = 0\n",
    "        self.avg = 0\n",
    "        self.sum = 0\n",
    "        self.count = 0\n",
    "    \n",
    "    def update(self, val, n=1):\n",
    "        self.val = val\n",
    "        self.sum += val * n\n",
    "        self.count += n\n",
    "        self.avg = self.sum / self.count"
   ]
  },
  {
   "cell_type": "code",
   "execution_count": 29,
   "id": "497598bd-f778-4f88-8d20-c7b3f572899a",
   "metadata": {
    "tags": []
   },
   "outputs": [],
   "source": [
    "total_loss_train, total_acc_train = [], []\n",
    "def train(train_loader, model, criterion, optimizer, epoch):\n",
    "    model.train()\n",
    "    \n",
    "    # AverageMeter 인스턴스 생성\n",
    "    train_loss = AverageMeter()\n",
    "    train_acc = AverageMeter()\n",
    "    \n",
    "    curr_iter = (epoch - 1) * len(train_loader)\n",
    "    for i, data in enumerate(train_loader):\n",
    "        images, labels = data\n",
    "        N = images.size(0)\n",
    "        # print(f'image shape: {images.size(0)}, label shape: {labels.size(0)}')\n",
    "        \n",
    "        images = Variable(images).to(device)\n",
    "        labels = Variable(labels).to(device)\n",
    "        \n",
    "        optimizer.zero_grad()\n",
    "        outputs = model(images)\n",
    "        \n",
    "        loss = criterion(outputs, labels)\n",
    "        loss.backward()\n",
    "        optimizer.step()\n",
    "        \n",
    "        prediction = outputs.max(1, keepdim=True)[1]\n",
    "        # 업데이트: 정확도와 손실을 업데이트\n",
    "        train_acc.update(prediction.eq(labels.view_as(prediction)).sum().item() / N)\n",
    "        train_loss.update(loss.item(), N)\n",
    "        curr_iter += 1\n",
    "\n",
    "        if (i+1) % 100 == 0:\n",
    "            print(f\"[epoch {epoch}], [iter {i+1} / {len(train_loader)}], [train loss {train_loss.avg:.5f}], [train acc {train_acc.avg:.5f}]\")\n",
    "            total_loss_train.append(train_loss.avg)\n",
    "            total_acc_train.append(train_acc.avg)\n",
    "    \n",
    "    return train_loss.avg, train_acc.avg"
   ]
  },
  {
   "cell_type": "code",
   "execution_count": 26,
   "id": "a3806fc7-bdbb-4c17-8e3c-55d6e705db61",
   "metadata": {
    "tags": []
   },
   "outputs": [],
   "source": [
    "def validate(val_loader, model, criterion, optimizer, epoch):\n",
    "    model.eval()\n",
    "    val_loss = AverageMeter()\n",
    "    val_acc = AverageMeter()\n",
    "\n",
    "    with torch.no_grad():\n",
    "        for i, data in enumerate(val_loader):\n",
    "            images, labels = data\n",
    "            N = images.size(0)\n",
    "            images = Variable(images).to(device)\n",
    "            labels = Variable(labels).to(device)\n",
    "\n",
    "            outputs = model(images)\n",
    "            loss = criterion(outputs, labels)\n",
    "            \n",
    "            prediction = outputs.max(1, keepdim=True)[1]\n",
    "            val_acc.update(prediction.eq(labels.view_as(prediction)).sum().item() / N, N)\n",
    "            val_loss.update(loss.item(), N)\n",
    "\n",
    "    print(f\"[epoch {epoch}], [val loss {val_loss.avg:.5f}], [val acc {val_acc.avg:.5f}]\")\n",
    "    return val_loss.avg, val_acc.avg"
   ]
  },
  {
   "cell_type": "code",
   "execution_count": 27,
   "id": "9449f2b8-8838-4a1f-979d-e2e5f327b1c8",
   "metadata": {
    "tags": []
   },
   "outputs": [
    {
     "name": "stdout",
     "output_type": "stream",
     "text": [
      "[epoch 1], [iter 100 / 1124], [train loss 1.24312], [train acc 0.53844]\n",
      "[epoch 1], [iter 200 / 1124], [train loss 1.15340], [train acc 0.58031]\n",
      "[epoch 1], [iter 300 / 1124], [train loss 1.07111], [train acc 0.60938]\n",
      "[epoch 1], [iter 400 / 1124], [train loss 1.02746], [train acc 0.62281]\n",
      "[epoch 1], [iter 500 / 1124], [train loss 0.98863], [train acc 0.63631]\n",
      "[epoch 1], [iter 600 / 1124], [train loss 0.95073], [train acc 0.65021]\n",
      "[epoch 1], [iter 700 / 1124], [train loss 0.91428], [train acc 0.66201]\n",
      "[epoch 1], [iter 800 / 1124], [train loss 0.89195], [train acc 0.66805]\n",
      "[epoch 1], [iter 900 / 1124], [train loss 0.86896], [train acc 0.67601]\n",
      "[epoch 1], [iter 1000 / 1124], [train loss 0.84845], [train acc 0.68459]\n",
      "[epoch 1], [iter 1100 / 1124], [train loss 0.82493], [train acc 0.69321]\n",
      "[epoch 1], [val loss 0.64596], [val acc 0.75825]\n",
      "*****************************************************\n",
      "best record: [epoch 1], [val loss 0.64596], [val acc 0.75825]\n",
      "*****************************************************\n",
      "[epoch 2], [iter 100 / 1124], [train loss 0.63635], [train acc 0.75406]\n",
      "[epoch 2], [iter 200 / 1124], [train loss 0.61029], [train acc 0.76641]\n",
      "[epoch 2], [iter 300 / 1124], [train loss 0.61093], [train acc 0.76854]\n",
      "[epoch 2], [iter 400 / 1124], [train loss 0.60003], [train acc 0.77156]\n",
      "[epoch 2], [iter 500 / 1124], [train loss 0.59183], [train acc 0.77581]\n",
      "[epoch 2], [iter 600 / 1124], [train loss 0.58484], [train acc 0.77818]\n",
      "[epoch 2], [iter 700 / 1124], [train loss 0.57874], [train acc 0.78031]\n",
      "[epoch 2], [iter 800 / 1124], [train loss 0.57307], [train acc 0.78223]\n",
      "[epoch 2], [iter 900 / 1124], [train loss 0.56598], [train acc 0.78441]\n",
      "[epoch 2], [iter 1000 / 1124], [train loss 0.56200], [train acc 0.78609]\n",
      "[epoch 2], [iter 1100 / 1124], [train loss 0.55942], [train acc 0.78716]\n",
      "[epoch 2], [val loss 0.44759], [val acc 0.82934]\n",
      "*****************************************************\n",
      "best record: [epoch 2], [val loss 0.44759], [val acc 0.82934]\n",
      "*****************************************************\n",
      "[epoch 3], [iter 100 / 1124], [train loss 0.51327], [train acc 0.80000]\n",
      "[epoch 3], [iter 200 / 1124], [train loss 0.49766], [train acc 0.81047]\n",
      "[epoch 3], [iter 300 / 1124], [train loss 0.48337], [train acc 0.81479]\n",
      "[epoch 3], [iter 400 / 1124], [train loss 0.48637], [train acc 0.81359]\n",
      "[epoch 3], [iter 500 / 1124], [train loss 0.48597], [train acc 0.81344]\n",
      "[epoch 3], [iter 600 / 1124], [train loss 0.48185], [train acc 0.81495]\n",
      "[epoch 3], [iter 700 / 1124], [train loss 0.47696], [train acc 0.81750]\n",
      "[epoch 3], [iter 800 / 1124], [train loss 0.47402], [train acc 0.81777]\n",
      "[epoch 3], [iter 900 / 1124], [train loss 0.47048], [train acc 0.81948]\n",
      "[epoch 3], [iter 1000 / 1124], [train loss 0.46559], [train acc 0.82203]\n",
      "[epoch 3], [iter 1100 / 1124], [train loss 0.46457], [train acc 0.82261]\n",
      "[epoch 3], [val loss 0.34292], [val acc 0.86885]\n",
      "*****************************************************\n",
      "best record: [epoch 3], [val loss 0.34292], [val acc 0.86885]\n",
      "*****************************************************\n",
      "[epoch 4], [iter 100 / 1124], [train loss 0.39680], [train acc 0.84719]\n",
      "[epoch 4], [iter 200 / 1124], [train loss 0.39607], [train acc 0.84672]\n",
      "[epoch 4], [iter 300 / 1124], [train loss 0.39237], [train acc 0.85000]\n",
      "[epoch 4], [iter 400 / 1124], [train loss 0.40084], [train acc 0.84734]\n",
      "[epoch 4], [iter 500 / 1124], [train loss 0.39489], [train acc 0.85006]\n",
      "[epoch 4], [iter 600 / 1124], [train loss 0.38855], [train acc 0.85276]\n",
      "[epoch 4], [iter 700 / 1124], [train loss 0.39101], [train acc 0.85103]\n",
      "[epoch 4], [iter 800 / 1124], [train loss 0.38904], [train acc 0.85133]\n",
      "[epoch 4], [iter 900 / 1124], [train loss 0.38954], [train acc 0.85111]\n",
      "[epoch 4], [iter 1000 / 1124], [train loss 0.38881], [train acc 0.85150]\n",
      "[epoch 4], [iter 1100 / 1124], [train loss 0.38550], [train acc 0.85222]\n",
      "[epoch 4], [val loss 0.33451], [val acc 0.87441]\n",
      "*****************************************************\n",
      "best record: [epoch 4], [val loss 0.33451], [val acc 0.87441]\n",
      "*****************************************************\n",
      "[epoch 5], [iter 100 / 1124], [train loss 0.34318], [train acc 0.86531]\n",
      "[epoch 5], [iter 200 / 1124], [train loss 0.33845], [train acc 0.87266]\n",
      "[epoch 5], [iter 300 / 1124], [train loss 0.33752], [train acc 0.87167]\n",
      "[epoch 5], [iter 400 / 1124], [train loss 0.33628], [train acc 0.87016]\n",
      "[epoch 5], [iter 500 / 1124], [train loss 0.33439], [train acc 0.87281]\n",
      "[epoch 5], [iter 600 / 1124], [train loss 0.34356], [train acc 0.87042]\n",
      "[epoch 5], [iter 700 / 1124], [train loss 0.34756], [train acc 0.86884]\n",
      "[epoch 5], [iter 800 / 1124], [train loss 0.34450], [train acc 0.87000]\n",
      "[epoch 5], [iter 900 / 1124], [train loss 0.34048], [train acc 0.87139]\n",
      "[epoch 5], [iter 1000 / 1124], [train loss 0.34029], [train acc 0.87066]\n",
      "[epoch 5], [iter 1100 / 1124], [train loss 0.33584], [train acc 0.87202]\n",
      "[epoch 5], [val loss 0.29888], [val acc 0.89101]\n",
      "*****************************************************\n",
      "best record: [epoch 5], [val loss 0.29888], [val acc 0.89101]\n",
      "*****************************************************\n",
      "[epoch 6], [iter 100 / 1124], [train loss 0.31048], [train acc 0.88156]\n",
      "[epoch 6], [iter 200 / 1124], [train loss 0.31359], [train acc 0.88219]\n",
      "[epoch 6], [iter 300 / 1124], [train loss 0.29901], [train acc 0.88500]\n",
      "[epoch 6], [iter 400 / 1124], [train loss 0.29691], [train acc 0.88656]\n",
      "[epoch 6], [iter 500 / 1124], [train loss 0.29511], [train acc 0.88750]\n",
      "[epoch 6], [iter 600 / 1124], [train loss 0.28978], [train acc 0.88979]\n",
      "[epoch 6], [iter 700 / 1124], [train loss 0.28724], [train acc 0.89098]\n",
      "[epoch 6], [iter 800 / 1124], [train loss 0.28704], [train acc 0.89090]\n",
      "[epoch 6], [iter 900 / 1124], [train loss 0.28407], [train acc 0.89257]\n",
      "[epoch 6], [iter 1000 / 1124], [train loss 0.28183], [train acc 0.89306]\n",
      "[epoch 6], [iter 1100 / 1124], [train loss 0.27966], [train acc 0.89347]\n",
      "[epoch 6], [val loss 0.34509], [val acc 0.86568]\n",
      "[epoch 7], [iter 100 / 1124], [train loss 0.25378], [train acc 0.90781]\n",
      "[epoch 7], [iter 200 / 1124], [train loss 0.26374], [train acc 0.90328]\n",
      "[epoch 7], [iter 300 / 1124], [train loss 0.26790], [train acc 0.90198]\n",
      "[epoch 7], [iter 400 / 1124], [train loss 0.26714], [train acc 0.90125]\n",
      "[epoch 7], [iter 500 / 1124], [train loss 0.26029], [train acc 0.90350]\n",
      "[epoch 7], [iter 600 / 1124], [train loss 0.25901], [train acc 0.90370]\n",
      "[epoch 7], [iter 700 / 1124], [train loss 0.26319], [train acc 0.90214]\n",
      "[epoch 7], [iter 800 / 1124], [train loss 0.26350], [train acc 0.90207]\n",
      "[epoch 7], [iter 900 / 1124], [train loss 0.26375], [train acc 0.90139]\n",
      "[epoch 7], [iter 1000 / 1124], [train loss 0.26118], [train acc 0.90238]\n",
      "[epoch 7], [iter 1100 / 1124], [train loss 0.26240], [train acc 0.90187]\n",
      "[epoch 7], [val loss 0.17904], [val acc 0.93197]\n",
      "*****************************************************\n",
      "best record: [epoch 7], [val loss 0.17904], [val acc 0.93197]\n",
      "*****************************************************\n",
      "[epoch 8], [iter 100 / 1124], [train loss 0.23141], [train acc 0.91250]\n",
      "[epoch 8], [iter 200 / 1124], [train loss 0.22742], [train acc 0.91438]\n",
      "[epoch 8], [iter 300 / 1124], [train loss 0.22436], [train acc 0.91458]\n",
      "[epoch 8], [iter 400 / 1124], [train loss 0.22495], [train acc 0.91344]\n",
      "[epoch 8], [iter 500 / 1124], [train loss 0.22567], [train acc 0.91344]\n",
      "[epoch 8], [iter 600 / 1124], [train loss 0.23199], [train acc 0.91167]\n",
      "[epoch 8], [iter 700 / 1124], [train loss 0.23048], [train acc 0.91201]\n",
      "[epoch 8], [iter 800 / 1124], [train loss 0.22729], [train acc 0.91363]\n",
      "[epoch 8], [iter 900 / 1124], [train loss 0.22538], [train acc 0.91417]\n",
      "[epoch 8], [iter 1000 / 1124], [train loss 0.22363], [train acc 0.91487]\n",
      "[epoch 8], [iter 1100 / 1124], [train loss 0.22388], [train acc 0.91474]\n",
      "[epoch 8], [val loss 0.17287], [val acc 0.93436]\n",
      "*****************************************************\n",
      "best record: [epoch 8], [val loss 0.17287], [val acc 0.93436]\n",
      "*****************************************************\n",
      "[epoch 9], [iter 100 / 1124], [train loss 0.18788], [train acc 0.93000]\n",
      "[epoch 9], [iter 200 / 1124], [train loss 0.19104], [train acc 0.92719]\n",
      "[epoch 9], [iter 300 / 1124], [train loss 0.20125], [train acc 0.92260]\n",
      "[epoch 9], [iter 400 / 1124], [train loss 0.20751], [train acc 0.92141]\n",
      "[epoch 9], [iter 500 / 1124], [train loss 0.20398], [train acc 0.92325]\n",
      "[epoch 9], [iter 600 / 1124], [train loss 0.20431], [train acc 0.92245]\n",
      "[epoch 9], [iter 700 / 1124], [train loss 0.20531], [train acc 0.92188]\n",
      "[epoch 9], [iter 800 / 1124], [train loss 0.20355], [train acc 0.92246]\n",
      "[epoch 9], [iter 900 / 1124], [train loss 0.20468], [train acc 0.92253]\n",
      "[epoch 9], [iter 1000 / 1124], [train loss 0.20553], [train acc 0.92259]\n",
      "[epoch 9], [iter 1100 / 1124], [train loss 0.20335], [train acc 0.92366]\n",
      "[epoch 9], [val loss 0.16135], [val acc 0.93750]\n",
      "*****************************************************\n",
      "best record: [epoch 9], [val loss 0.16135], [val acc 0.93750]\n",
      "*****************************************************\n",
      "[epoch 10], [iter 100 / 1124], [train loss 0.17981], [train acc 0.93250]\n",
      "[epoch 10], [iter 200 / 1124], [train loss 0.19168], [train acc 0.92875]\n",
      "[epoch 10], [iter 300 / 1124], [train loss 0.18948], [train acc 0.92927]\n",
      "[epoch 10], [iter 400 / 1124], [train loss 0.18480], [train acc 0.93094]\n",
      "[epoch 10], [iter 500 / 1124], [train loss 0.17918], [train acc 0.93275]\n",
      "[epoch 10], [iter 600 / 1124], [train loss 0.18050], [train acc 0.93266]\n",
      "[epoch 10], [iter 700 / 1124], [train loss 0.18162], [train acc 0.93219]\n",
      "[epoch 10], [iter 800 / 1124], [train loss 0.18011], [train acc 0.93254]\n",
      "[epoch 10], [iter 900 / 1124], [train loss 0.18092], [train acc 0.93177]\n",
      "[epoch 10], [iter 1000 / 1124], [train loss 0.18197], [train acc 0.93128]\n",
      "[epoch 10], [iter 1100 / 1124], [train loss 0.18109], [train acc 0.93179]\n",
      "[epoch 10], [val loss 0.13752], [val acc 0.95054]\n",
      "*****************************************************\n",
      "best record: [epoch 10], [val loss 0.13752], [val acc 0.95054]\n",
      "*****************************************************\n"
     ]
    }
   ],
   "source": [
    "epoch_num = 10\n",
    "best_val_acc = 0\n",
    "total_loss_val, total_acc_val = [], []\n",
    "\n",
    "for epoch in range(1, epoch_num+1):\n",
    "    train_loss, train_acc = train(train_loader, model, criterion, optimizer, epoch)\n",
    "    loss_val, acc_val = validate(val_loader, model, criterion, optimizer, epoch)\n",
    "    total_loss_val.append(loss_val)\n",
    "    total_acc_val.append(acc_val)\n",
    "    \n",
    "    if acc_val > best_val_acc:\n",
    "        best_val_acc = acc_val\n",
    "        print('*****************************************************')\n",
    "        print(f'best record: [epoch {epoch}], [val loss {loss_val:.5f}], [val acc {acc_val:.5f}]')\n",
    "        print('*****************************************************')"
   ]
  },
  {
   "cell_type": "code",
   "execution_count": 51,
   "id": "33b59096-92fb-48f3-bb3d-724c47256d3b",
   "metadata": {
    "tags": []
   },
   "outputs": [
    {
     "data": {
      "image/png": "[encoded data removed]",
      "text/plain": [
       "<Figure size 640x480 with 2 Axes>"
      ]
     },
     "metadata": {},
     "output_type": "display_data"
    }
   ],
   "source": [
    "fig = plt.figure(num = 2)\n",
    "fig1 = fig.add_subplot(2, 1, 1)\n",
    "fig2 = fig.add_subplot(2, 1, 2)\n",
    "\n",
    "fig1.plot(total_loss_train, label = 'training loss')\n",
    "fig1.plot(total_acc_train, label = 'training accuracy')\n",
    "fig2.plot(total_loss_val, label = 'validation loss')\n",
    "fig2.plot(total_acc_val, label = 'validation accuracy')\n",
    "plt.legend()\n",
    "plt.show()"
   ]
  },
  {
   "cell_type": "code",
   "execution_count": 39,
   "id": "76d6cdcf-67ba-4849-8276-88064f0f5afe",
   "metadata": {
    "tags": []
   },
   "outputs": [],
   "source": [
    "def plot_confusion_matrix(cm, classes,\n",
    "                          normalize=False,\n",
    "                          title='Confusion Matrix',\n",
    "                         cmap=plt.cm.Blues):\n",
    "    plt.imshow(cm, interpolation='nearest', cmap=cmap)\n",
    "    plt.title(title)\n",
    "    plt.colorbar()\n",
    "    tick_marks = np.arange(len(classes))\n",
    "    plt.xticks(tick_marks, classes, rotation=45)\n",
    "    plt.yticks(tick_marks, classes)\n",
    "    \n",
    "    if normalize:\n",
    "        cm = cm.astype('float') / cm.sum(axis=1)[:, np.newaxis]\n",
    "    thresh = cm.max() / 2.\n",
    "\n",
    "    for i, j in itertools.product(range(cm.shape[0]), range(cm.shape[1])):\n",
    "        plt.text(j, i , cm[i, j],\n",
    "                horizontalalignment='center',\n",
    "                color='white' if cm[i, j] > thresh else 'black')\n",
    "        plt.tight_layout()\n",
    "        plt.ylabel('True label')\n",
    "        plt.xlabel('Predictied label')"
   ]
  },
  {
   "cell_type": "code",
   "execution_count": 43,
   "id": "5fb07f4a-890a-465e-a489-01c56a6ee21b",
   "metadata": {
    "tags": []
   },
   "outputs": [
    {
     "data": {
      "image/png": "[encoded data removed]",
      "text/plain": [
       "<Figure size 640x480 with 2 Axes>"
      ]
     },
     "metadata": {},
     "output_type": "display_data"
    }
   ],
   "source": [
    "model.eval()\n",
    "y_label, y_predict = [], []\n",
    "with torch.no_grad():\n",
    "    for i, data in enumerate(val_loader):\n",
    "        images, labels = data\n",
    "        N = images.size(0)\n",
    "        images = Variable(images).to(device)\n",
    "        outputs = model(images)\n",
    "        prediction = outputs.max(1, keepdim=True)[1]\n",
    "        y_label.extend(labels.cpu().numpy())\n",
    "        y_predict.extend(np.squeeze(prediction.cpu().numpy().T))\n",
    "        \n",
    "confusion_mtx = confusion_matrix(y_label, y_predict)\n",
    "plot_labels = ['akiec', 'bcc', 'bkl', 'df', 'nv', 'vasc', 'mel']\n",
    "plot_confusion_matrix(confusion_mtx, plot_labels)"
   ]
  },
  {
   "cell_type": "code",
   "execution_count": 44,
   "id": "21b193ea-b53c-40b3-8f64-2ce857ff43db",
   "metadata": {
    "tags": []
   },
   "outputs": [
    {
     "name": "stdout",
     "output_type": "stream",
     "text": [
      "              precision    recall  f1-score   support\n",
      "\n",
      "       akiec       0.96      0.98      0.97      4455\n",
      "         bcc       0.97      0.99      0.98      4790\n",
      "         bkl       0.91      0.94      0.93      5055\n",
      "          df       1.00      1.00      1.00      5350\n",
      "          nv       0.90      0.88      0.89      5822\n",
      "        vasc       0.99      1.00      1.00      5160\n",
      "         mel       0.92      0.87      0.90      5335\n",
      "\n",
      "    accuracy                           0.95     35967\n",
      "   macro avg       0.95      0.95      0.95     35967\n",
      "weighted avg       0.95      0.95      0.95     35967\n",
      "\n"
     ]
    }
   ],
   "source": [
    "report = classification_report(y_label, y_predict, target_names=plot_labels)\n",
    "print(report)"
   ]
  },
  {
   "cell_type": "code",
   "execution_count": 46,
   "id": "6a218652-b03d-4863-b5f5-a4aedc63108f",
   "metadata": {
    "tags": []
   },
   "outputs": [
    {
     "data": {
      "text/plain": [
       "Text(0, 0.5, 'Fraction Classified Incorrectly')"
      ]
     },
     "execution_count": 46,
     "metadata": {},
     "output_type": "execute_result"
    },
    {
     "data": {
      "image/png": "[encoded data removed]",
      "text/plain": [
       "<Figure size 640x480 with 1 Axes>"
      ]
     },
     "metadata": {},
     "output_type": "display_data"
    }
   ],
   "source": [
    "label_frac_error = 1 - np.diag(confusion_mtx) / np.sum(confusion_mtx, axis=1)\n",
    "plt.bar(np.arange(7), label_frac_error)\n",
    "plt.xlabel('True Label')\n",
    "plt.ylabel(\"Fraction Classified ㅅIncorrectly\")"
   ]
  },
  {
   "cell_type": "code",
   "execution_count": null,
   "id": "7f41a05a-3498-4f2b-bcd1-1ef5a1c42cc9",
   "metadata": {},
   "outputs": [],
   "source": []
  },
  {
   "cell_type": "code",
   "execution_count": null,
   "id": "2ef68767-3f10-4a02-af93-ed0c0e197014",
   "metadata": {},
   "outputs": [],
   "source": []
  },
  {
   "cell_type": "code",
   "execution_count": null,
   "id": "eacd2b95-ece9-44c8-8ae6-e397cf9187c8",
   "metadata": {},
   "outputs": [],
   "source": []
  },
  {
   "cell_type": "code",
   "execution_count": null,
   "id": "db606299-2294-4b0c-8cfa-d4811e5a8172",
   "metadata": {},
   "outputs": [],
   "source": []
  }
 ],
 "metadata": {
  "kernelspec": {
   "display_name": "Python 3 (ipykernel)",
   "language": "python",
   "name": "python3"
  },
  "language_info": {
   "codemirror_mode": {
    "name": "ipython",
    "version": 3
   },
   "file_extension": ".py",
   "mimetype": "text/x-python",
   "name": "python",
   "nbconvert_exporter": "python",
   "pygments_lexer": "ipython3",
   "version": "3.11.5"
  }
 },
 "nbformat": 4,
 "nbformat_minor": 5
}
