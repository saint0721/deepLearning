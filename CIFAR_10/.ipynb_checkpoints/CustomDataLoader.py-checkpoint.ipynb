{
 "cells": [
  {
   "cell_type": "code",
   "execution_count": null,
   "id": "b89575c5",
   "metadata": {},
   "outputs": [],
   "source": [
    "class AnimalImageDataset(Dataset):\n",
    "    def __init__(self, root_dir, is_test=False, transform=None):\n",
    "        self.root_dir = root_dir\n",
    "        self.is_test = is_test\n",
    "        self.transform = transform\n",
    "        self.image_files = [f for f in os.listdir(root_dir) if f.endswith('.jpg') or f.endswith('.png')]\n",
    "\n",
    "    def __len__(self):\n",
    "        return len(self.image_files)\n",
    "\n",
    "    def __getitem__(self, index):\n",
    "        image_file = self.image_files[index]\n",
    "        image_path = os.path.join(self.root_dir, image_file)\n",
    "        image = Image.open(image_path).convert(\"RGB\")\n",
    "\n",
    "        if self.is_test:\n",
    "            label = -1\n",
    "        else:\n",
    "            image_label = image_file.split('.')[0]\n",
    "            label = 0 if 'cat' in image_label.lower() else 1\n",
    "            label = torch.tensor(label, dtype=torch.long)\n",
    "\n",
    "        if self.transform:\n",
    "            image = self.transform(image)\n",
    "\n",
    "        return image, label"
   ]
  }
 ],
 "metadata": {
  "kernelspec": {
   "display_name": "Python 3 (ipykernel)",
   "language": "python",
   "name": "python3"
  },
  "language_info": {
   "codemirror_mode": {
    "name": "ipython",
    "version": 3
   },
   "file_extension": ".py",
   "mimetype": "text/x-python",
   "name": "python",
   "nbconvert_exporter": "python",
   "pygments_lexer": "ipython3",
   "version": "3.10.9"
  }
 },
 "nbformat": 4,
 "nbformat_minor": 5
}
