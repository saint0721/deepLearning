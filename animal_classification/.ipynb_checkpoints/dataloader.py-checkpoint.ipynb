{
 "cells": [
  {
   "cell_type": "code",
   "execution_count": null,
   "id": "ea967d47",
   "metadata": {},
   "outputs": [],
   "source": [
    "import cv2\n",
    "\n",
    "import torch\n",
    "from torch.utils.data import Dataset\n",
    "\n",
    "import numpy as np\n",
    "\n",
    "class catandog_image_dataset(Dataset):\n",
    "\n",
    "    def __init__(self, files, transform=None):\n",
    "        # read in the transforms\n",
    "        self.image_files = files        \n",
    "        self.label_list = ['cat', 'dog']\n",
    "        \n",
    "    # override the length function\n",
    "    def __len__(self):\n",
    "        return len(self.image_files)\n",
    "    \n",
    "    # override the getitem function\n",
    "    def __getitem__(self, index):\n",
    "        # load the data at index and apply transform\n",
    "        image_name = self.image_files[index]\n",
    "        label_name = image_name.split('.')[0]\n",
    "        image = cv2.imread(image_name)\n",
    "        labels = torch.tensor(self.label_list.index(label_name))\n",
    "        \n",
    "        # return data labels\n",
    "        return image, labels"
   ]
  }
 ],
 "metadata": {
  "kernelspec": {
   "display_name": "Python 3 (ipykernel)",
   "language": "python",
   "name": "python3"
  },
  "language_info": {
   "codemirror_mode": {
    "name": "ipython",
    "version": 3
   },
   "file_extension": ".py",
   "mimetype": "text/x-python",
   "name": "python",
   "nbconvert_exporter": "python",
   "pygments_lexer": "ipython3",
   "version": "3.10.9"
  }
 },
 "nbformat": 4,
 "nbformat_minor": 5
}
